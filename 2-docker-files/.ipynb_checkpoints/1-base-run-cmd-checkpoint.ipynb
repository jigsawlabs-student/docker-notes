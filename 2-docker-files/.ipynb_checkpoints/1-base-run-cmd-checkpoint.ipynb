{
 "cells": [
  {
   "cell_type": "markdown",
   "metadata": {},
   "source": [
    "# Building an Image"
   ]
  },
  {
   "cell_type": "markdown",
   "metadata": {},
   "source": [
    "### Introduction"
   ]
  },
  {
   "cell_type": "markdown",
   "metadata": {},
   "source": [
    "### DockerFile Framework"
   ]
  },
  {
   "cell_type": "markdown",
   "metadata": {},
   "source": [
    "Docker images are constructed according to a Dockerfile.  Let's see an example by looking at part of our [Ghost DockerFile](https://github.com/docker-library/ghost/blob/2a72c03e339bda5051b37edd0c553fe909e8408d/2/debian/Dockerfile)."
   ]
  },
  {
   "cell_type": "markdown",
   "metadata": {},
   "source": [
    "```Dockerfile\n",
    "# Dockerfile\n",
    "FROM node:10-slim\n",
    "\n",
    "ENV GOSU_VERSION 1.10\n",
    "RUN set -x \n",
    "...\n",
    "\n",
    "EXPOSE 2368\n",
    "CMD [\"node\", \"current/index.js\"]\n",
    "```"
   ]
  },
  {
   "cell_type": "markdown",
   "metadata": {},
   "source": [
    "\n",
    "\n",
    "Starts with previous image, and then builds on it.\n",
    "\n",
    "```\n",
    "1. FROM base_image\n",
    "2. RUN build onto environment\n",
    "3. CMD to run this task\n",
    "```"
   ]
  },
  {
   "cell_type": "markdown",
   "metadata": {},
   "source": [
    "So the **FROM** starts from a previous image -- called a base image, the **RUN** is what we add to the environment, and the **CMD** is the task (or process)that is executed when we use an image to start up a new container.  \n",
    "\n",
    "> In the above Dockerfile, we start the new container by calling `CMD [node, current/index.js]`, which starts up a new server.  This is node's version of the `Flask run` command."
   ]
  },
  {
   "cell_type": "markdown",
   "metadata": {},
   "source": [
    "### Building an Image"
   ]
  },
  {
   "cell_type": "markdown",
   "metadata": {},
   "source": [
    "We can run our new image, just like others with the following: \n",
    "\n",
    "`docker run -p 8899:8888 jupyter-kaggle`"
   ]
  },
  {
   "cell_type": "markdown",
   "metadata": {},
   "source": [
    "### Summary"
   ]
  },
  {
   "cell_type": "markdown",
   "metadata": {},
   "source": [
    "In this lesson, we saw how to build a docker image.  We build a docker image with a `Dockerfile` that follows the structure of: \n",
    "\n",
    "```python \n",
    "# 1. FROM base_image\n",
    "# 2. RUN build onto environment\n",
    "# 3. CMD to run this task\n",
    "```\n",
    "\n",
    "Following that format, our Dockerfile looked like the following:\n",
    "\n",
    "```Dockerfile\n",
    "# jupyter-kaggle/Dockerfile\n",
    "# 1. FROM base_image\n",
    "FROM jupyter/scipy-notebook\n",
    "\n",
    "# 2. RUN build onto environment\n",
    "RUN conda install 'kaggle'\n",
    "\n",
    "# 3. CMD to run this task\n",
    "CMD [\"jupyter\", \"notebook\"]\n",
    "```\n",
    "\n",
    "We then built the image with the command: \n",
    "\n",
    "`docker build .`"
   ]
  },
  {
   "cell_type": "markdown",
   "metadata": {},
   "source": [
    "### Resources\n",
    "\n",
    "[Tiny Containers](https://blog.iron.io/microcontainers-tiny-portable-containers/)\n",
    "\n",
    "[Docker Python](https://blog.realkinetic.com/building-minimal-docker-containers-for-python-applications-37d0272c52f3?gi=1a4e7a42778e)\n",
    "\n",
    "[With Authentication](https://github.com/Paperspace/jupyter-docker-stacks/tree/master/scipy-notebook)\n",
    "\n",
    "[DockerFile Documentation](https://docs.docker.com/engine/reference/builder/#understand-how-cmd-and-entrypoint-interact)"
   ]
  }
 ],
 "metadata": {
  "kernelspec": {
   "display_name": "Python 3",
   "language": "python",
   "name": "python3"
  },
  "language_info": {
   "codemirror_mode": {
    "name": "ipython",
    "version": 3
   },
   "file_extension": ".py",
   "mimetype": "text/x-python",
   "name": "python",
   "nbconvert_exporter": "python",
   "pygments_lexer": "ipython3",
   "version": "3.8.6"
  }
 },
 "nbformat": 4,
 "nbformat_minor": 4
}
