{
 "cells": [
  {
   "cell_type": "markdown",
   "metadata": {},
   "source": [
    "# Adding Local Files to an Image"
   ]
  },
  {
   "cell_type": "markdown",
   "metadata": {},
   "source": [
    "### Introduction"
   ]
  },
  {
   "cell_type": "markdown",
   "metadata": {},
   "source": [
    "In the last lesson, we saw that our Dockerfile follows a general of structure of the following:\n",
    "\n",
    "```Dockerfile\n",
    "# jupyter-kaggle/Dockerfile\n",
    "# 1. FROM base_image\n",
    "FROM jupyter/scipy-notebook\n",
    "\n",
    "# 2. RUN build onto environment\n",
    "RUN conda install 'kaggle'\n",
    "\n",
    "# 3. CMD to run this task\n",
    "CMD [\"jupyter\", \"notebook\"]\n",
    "```\n",
    "\n",
    "In this lesson, we'll learn two additional commands we can perform with Docker: \n",
    "\n",
    "1. `ADD` which allows us to copy files from our host machine to our Docker image, and\n",
    "2. `WORKDIR`, which allows us change the directory of that our commands are run on the image.\n",
    "\n",
    "Let's keep going to learn more about both."
   ]
  },
  {
   "cell_type": "markdown",
   "metadata": {},
   "source": [
    "### Getting our Kaggle Files"
   ]
  },
  {
   "cell_type": "markdown",
   "metadata": {},
   "source": [
    "The problem, is that remember our images and containers are namespaced away from the rest of our harddrive.  So our container does not contain any of the host's local files."
   ]
  },
  {
   "cell_type": "markdown",
   "metadata": {},
   "source": [
    "### Working Directory"
   ]
  },
  {
   "cell_type": "markdown",
   "metadata": {},
   "source": [
    "Ok, let's use `WORKDIR` to ensure that we place the `kaggle.json` file in the correct location."
   ]
  },
  {
   "cell_type": "markdown",
   "metadata": {},
   "source": [
    "```python\n",
    "FROM jupyter/scipy-notebook\n",
    "\n",
    "RUN conda install 'kaggle'\n",
    "\n",
    "WORKDIR .kaggle\n",
    "COPY ./kaggle.json ./\n",
    "\n",
    "CMD [\"jupyter\", \"notebook\"]\n",
    "```"
   ]
  },
  {
   "cell_type": "markdown",
   "metadata": {},
   "source": [
    "Now one thing to keep in mind, is that the `WORKDIR` will stay the same, unless directed otherwise.  This means that even if we `sh` into our container, that directory will be the `.kaggle` directory.  \n",
    "\n",
    "The `/home/jovyan` folder seems like a better folder to begin from, so let's change the WORKDIR back before ending the file."
   ]
  },
  {
   "cell_type": "markdown",
   "metadata": {},
   "source": [
    "```python\n",
    "FROM jupyter/scipy-notebook\n",
    "\n",
    "RUN conda install 'kaggle'\n",
    "\n",
    "WORKDIR .kaggle\n",
    "COPY ./kaggle.json ./\n",
    "\n",
    "WORKDIR ..\n",
    "CMD [\"jupyter\", \"notebook\"]\n",
    "```"
   ]
  },
  {
   "cell_type": "markdown",
   "metadata": {},
   "source": [
    "We'll now see that our `.kaggle.json` file is properly in the `.kaggle` folder and that we are starting from the `/home/jovyan` directory."
   ]
  },
  {
   "cell_type": "markdown",
   "metadata": {},
   "source": [
    "`docker run -it jek2141/jupyter-kaggle sh`\n",
    "```\n",
    "$ pwd\n",
    "/home/jovyan\n",
    "\n",
    "$ kaggle\n",
    "Warning: Your Kaggle API key is readable by other users on this system! \n",
    "To fix this, you can run 'chmod 600 /home/jovyan/.kaggle/kaggle.json'\n",
    "usage: kaggle [-h] [-v] {competitions,c,datasets,d,kernels,k,config} ...\n",
    "```"
   ]
  },
  {
   "cell_type": "markdown",
   "metadata": {},
   "source": [
    "### Wrapping Up: Specifying Environment Variables"
   ]
  },
  {
   "cell_type": "markdown",
   "metadata": {},
   "source": [
    "Now we see that our kaggle command currently works, but we still get a warning that we should run:\n",
    "\n",
    "`chmod 600 /home/jovyan/.kaggle/kaggle.json`\n",
    "\n",
    "But if we try this from the container, we'll see we do not have current permissions to do this. \n"
   ]
  },
  {
   "cell_type": "markdown",
   "metadata": {},
   "source": [
    "```bash\n",
    "$ chmod 600 .kaggle/kaggle.json\n",
    "chmod: changing permissions of '.kaggle/kaggle.json': Operation not permitted\n",
    "```"
   ]
  },
  {
   "cell_type": "markdown",
   "metadata": {},
   "source": [
    "We need to be a superuser.  According to the [Dockerstacks documentation](https://jupyter-docker-stacks.readthedocs.io/en/latest/using/common.html), we can change our user when we start our container by setting an environment variable of `GRANT_SUDO=yes`.  There are two ways we can set an environment variable through docker.\n",
    "\n",
    "**1. Through a build argument**\n",
    "\n",
    "We can set an environment variable when we boot up a container with the `-e` flag.  \n",
    "\n",
    "So this time, we change the way we boot up the run command to the following:\n",
    "\n",
    "`docker run -it jek2141/jupyter-kaggle -e GRANT_SUDO=yes --user root sh`\n",
    "\n",
    "This sets the the `GRANT_SUDO` environmental variable to `yes` in the container.  \n",
    "\n",
    "```\n",
    "$ printenv\n",
    "\n",
    "MINICONDA_VERSION=4.6.14\n",
    "LANGUAGE=en_US.UTF-8\n",
    "HOSTNAME=25a181034948\n",
    "XDG_CACHE_HOME=/home/jovyan/.cache/\n",
    "HOME=/home/jovyan\n",
    "CONDA_VERSION=4.7.10\n",
    "NB_USER=jovyan\n",
    "GRANT_SUDO=yes\n",
    "...\n",
    "```"
   ]
  },
  {
   "cell_type": "markdown",
   "metadata": {},
   "source": [
    "**2. Through a Dockerfile**"
   ]
  },
  {
   "cell_type": "markdown",
   "metadata": {},
   "source": [
    "We can also set environmental variables from Dockerfile to build this step directly in the image.  We can also change the user, to accomplish the effects of the `--user root` flag."
   ]
  },
  {
   "cell_type": "markdown",
   "metadata": {},
   "source": [
    "```python\n",
    "FROM jupyter/scipy-notebook\n",
    "\n",
    "RUN conda install 'kaggle'\n",
    "\n",
    "WORKDIR .kaggle\n",
    "COPY ./kaggle.json ./\n",
    "\n",
    "WORKDIR ..\n",
    "\n",
    "ENV GRANT_SUDO=yes\n",
    "\n",
    "USER root \n",
    "\n",
    "RUN chmod 600 .kaggle/kaggle.json\n",
    "CMD [\"jupyter\", \"notebook\"]\n",
    "```"
   ]
  },
  {
   "cell_type": "markdown",
   "metadata": {},
   "source": [
    "`docker build -t jek2141/jupyter-kaggle .`"
   ]
  },
  {
   "cell_type": "markdown",
   "metadata": {},
   "source": [
    "And this automates the process properly."
   ]
  },
  {
   "cell_type": "markdown",
   "metadata": {},
   "source": [
    "`docker run -it jek2141/jupyter-kaggle sh`\n",
    "\n",
    "```\n",
    "usage: kaggle [-h] [-v] {competitions,c,datasets,d,kernels,k,config} ...\n",
    "kaggle: error: the following arguments are required: command\n",
    "```"
   ]
  },
  {
   "cell_type": "markdown",
   "metadata": {},
   "source": [
    "### Summary"
   ]
  },
  {
   "cell_type": "markdown",
   "metadata": {},
   "source": [
    "In this lesson, we learned of some additional commands to help construct our docker image.  First, we saw how to add a file from the host computer into the Docker image with the ADD command.  Then we saw how to change the working directory with the WORKDIR command.  Finally, we learned we can set environment variables in our image either through the `-e` flag as in `-e GRANT_SUDO=yes` or through the ENV command as in `ENV GRANT_SUDO=yes`.  With that, we were able to have our image ready to go."
   ]
  },
  {
   "cell_type": "markdown",
   "metadata": {},
   "source": [
    "### Resources\n",
    "\n",
    "[Docker Secrets](https://pythonspeed.com/articles/build-secrets-docker-compose/)"
   ]
  }
 ],
 "metadata": {
  "kernelspec": {
   "display_name": "Python 3",
   "language": "python",
   "name": "python3"
  },
  "language_info": {
   "codemirror_mode": {
    "name": "ipython",
    "version": 3
   },
   "file_extension": ".py",
   "mimetype": "text/x-python",
   "name": "python",
   "nbconvert_exporter": "python",
   "pygments_lexer": "ipython3",
   "version": "3.8.6"
  }
 },
 "nbformat": 4,
 "nbformat_minor": 4
}
