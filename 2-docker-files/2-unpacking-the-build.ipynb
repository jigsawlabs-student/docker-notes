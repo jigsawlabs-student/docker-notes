{
 "cells": [
  {
   "cell_type": "markdown",
   "metadata": {},
   "source": [
    "# Going Deeper with Building Images"
   ]
  },
  {
   "cell_type": "markdown",
   "metadata": {},
   "source": [
    "### Introduction"
   ]
  },
  {
   "cell_type": "markdown",
   "metadata": {},
   "source": [
    "In the last lesson, we moved through a lot of the steps building our own Docker image.  In this lesson, we'll learn a bit more about each of these steps."
   ]
  },
  {
   "cell_type": "markdown",
   "metadata": {},
   "source": [
    "To review, we broke down our DockerFile into three main components:\n",
    "\n",
    "```python \n",
    "# 1. FROM base_image\n",
    "# 2. RUN build onto environment\n",
    "# 3. CMD to run this task\n",
    "```\n",
    "\n",
    "And after that we applied them, with the following:\n",
    "\n",
    "```python\n",
    "# jupyter-kaggle/Dockerfile\n",
    "FROM jupyter/scipy-notebook\n",
    "RUN conda install 'kaggle'\n",
    "CMD [\"jupyter\", \"notebook\"]\n",
    "```"
   ]
  },
  {
   "cell_type": "markdown",
   "metadata": {},
   "source": [
    "### Unpacking the steps "
   ]
  },
  {
   "cell_type": "markdown",
   "metadata": {},
   "source": [
    "Now, let's unpack these steps."
   ]
  },
  {
   "cell_type": "markdown",
   "metadata": {},
   "source": [
    "**1.  Choosing the base image?**\n",
    "\n",
    "\n",
    "\n",
    "**2. Adding customizations**"
   ]
  },
  {
   "cell_type": "markdown",
   "metadata": {},
   "source": [
    "**3. Finishing with CMD**"
   ]
  },
  {
   "cell_type": "markdown",
   "metadata": {},
   "source": [
    "### The build process"
   ]
  },
  {
   "cell_type": "markdown",
   "metadata": {},
   "source": [
    "Now to build our image we run `docker build .` "
   ]
  },
  {
   "cell_type": "markdown",
   "metadata": {},
   "source": [
    "```\n",
    "Sending build context to Docker daemon  2.048kB\n",
    "Step 1/3 : FROM jupyter/scipy-notebook\n",
    " ---> 844815ed865e\n",
    "Step 2/3 : RUN conda install 'kaggle'\n",
    " ---> Running in 4f5b1210656d\n",
    "Collecting package metadata (current_repodata.json): ...working... done\n",
    "Solving environment: ...working... done\n",
    "\n",
    "...\n",
    "\n",
    "Removing intermediate container 4f5b1210656d\n",
    " ---> 29886ca05035\n",
    "Step 3/3 : CMD [\"jupyter\", \"notebook\"]\n",
    " ---> Running in 5b0a8c54d511\n",
    "Removing intermediate container 5b0a8c54d511\n",
    " ---> 09c2125c0a49\n",
    "Successfully built 09c2125c0a49\n",
    "```"
   ]
  },
  {
   "cell_type": "markdown",
   "metadata": {},
   "source": [
    "`docker image inspect image_name`"
   ]
  },
  {
   "cell_type": "markdown",
   "metadata": {},
   "source": [
    "The layers displayed are each of the image layers."
   ]
  },
  {
   "cell_type": "markdown",
   "metadata": {},
   "source": [
    "### Summary"
   ]
  },
  {
   "cell_type": "markdown",
   "metadata": {},
   "source": [
    "In this lesson, we further discussed how our images are built.  We saw that we begin with a base image, which can be an image we wrote ourselves, or one that we find on Dockerhub.  On Dockerhub, we can find an image's DockerFile by visiting `repo/dockerfile`.  This is useful, because it shows us what software is already installed when download the image.\n",
    "\n",
    "Then we went a bit deeper into the build process.  We saw that when building our image, Docker displays the image layers that are built.  Each step is a different layer. "
   ]
  }
 ],
 "metadata": {
  "kernelspec": {
   "display_name": "Python 3",
   "language": "python",
   "name": "python3"
  },
  "language_info": {
   "codemirror_mode": {
    "name": "ipython",
    "version": 3
   },
   "file_extension": ".py",
   "mimetype": "text/x-python",
   "name": "python",
   "nbconvert_exporter": "python",
   "pygments_lexer": "ipython3",
   "version": "3.8.6"
  }
 },
 "nbformat": 4,
 "nbformat_minor": 4
}
