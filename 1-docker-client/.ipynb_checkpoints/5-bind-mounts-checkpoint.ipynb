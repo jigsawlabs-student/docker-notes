{
 "cells": [
  {
   "cell_type": "markdown",
   "metadata": {},
   "source": [
    "# Bind Mounts"
   ]
  },
  {
   "cell_type": "markdown",
   "metadata": {},
   "source": [
    "### Introduction"
   ]
  },
  {
   "cell_type": "markdown",
   "metadata": {},
   "source": [
    "### Persistence with Docker"
   ]
  },
  {
   "cell_type": "markdown",
   "metadata": {},
   "source": [
    "This Docker image requires a login, or a token, by default.  Looking at the [documentation of the image](https://github.com/Paperspace/jupyter-docker-stacks/tree/master/scipy-notebook), we can disable authentication with the following: \n",
    "\n",
    "> `docker run -p 8899:8888 jupyter/scipy-notebook start-notebook.sh --NotebookApp.token=''`"
   ]
  },
  {
   "cell_type": "markdown",
   "metadata": {},
   "source": [
    "<img src=\"./scipy-volumes.png\" width=\"60%\"/>"
   ]
  },
  {
   "cell_type": "markdown",
   "metadata": {},
   "source": [
    "### Add it"
   ]
  },
  {
   "cell_type": "markdown",
   "metadata": {},
   "source": [
    "**Mapping data to the container**\n",
    "\n",
    "\n",
    "`(base) [practice (master)*]$ docker run -p 8899:8888 -v \"$PWD\":/home/jovyan/work jupyter/scipy-notebook`\n",
    "\n",
    "This means to map the current folder (PWD stands for present working directory) into the folder `home/jovyan/work` in the container.  If we go to the `work` folder, this time we will find our `special.md` file.\n",
    "\n",
    "<img src=\"./scipy-rw-volumes.png\" width=\"80%\"/> "
   ]
  },
  {
   "cell_type": "markdown",
   "metadata": {},
   "source": [
    "> Notice that the new file Hello.ipynb file that we created in the container, is available in our host's environment.\n",
    "\n",
    "We can also add a new file, and when we shutdown the container, we will see a new file in our folder.\n",
    "\n",
    "`(base) [practice (master)*]$ ls`\n",
    "```\n",
    ".ipynb_checkpoints Hello.ipynb        special.md\n",
    "```"
   ]
  },
  {
   "cell_type": "markdown",
   "metadata": {},
   "source": [
    "Cool, so we have just seen that by using bind mounts, we can both read and write files to our local disk by using the `-v` option when we run our container. "
   ]
  },
  {
   "cell_type": "markdown",
   "metadata": {},
   "source": [
    "This is a powerful concept.  By separating the storage of our notebooks or data from our container, we can work with that data in separate environments.  So, for example, with Jupyter, we can simply use a different Jupyter container or image to begin using our data.  Perhaps we have `csv` data that we want to use in with a Jupyter image sometime, and a database, a la postgres, other times.  We could use bind mounting to connect data on our local machine to a postgres containers sometimes and a jupyter contain when we prefer to use Jupyter."
   ]
  },
  {
   "cell_type": "markdown",
   "metadata": {},
   "source": [
    "### Summary"
   ]
  },
  {
   "cell_type": "markdown",
   "metadata": {},
   "source": [
    "In this lesson, we saw one mechanism for using data inside of a container: using bind mounts.  With bind mounts, we map data from host machine to the container.  As we saw, the connection works both ways.  That is, any mounted data we change from inside of our container will update the corresponding directory on the local machine, and any changes we make inside of the mounted folder will be seen inside of the container.  We mount our data by running a container with the `-v host_folder:container_folder` as in:\n",
    "\n",
    "`docker run -v \"$PWD\":/home/jovyan/work jupyter/scipy-notebook`"
   ]
  },
  {
   "cell_type": "markdown",
   "metadata": {},
   "source": [
    "### Resources\n",
    "\n",
    "* [Bind mounts documentation](https://docs.docker.com/storage/bind-mounts/)\n",
    "* [Persistence in docker documentation](https://docs.docker.com/storage/)"
   ]
  }
 ],
 "metadata": {
  "kernelspec": {
   "display_name": "Python 3",
   "language": "python",
   "name": "python3"
  },
  "language_info": {
   "codemirror_mode": {
    "name": "ipython",
    "version": 3
   },
   "file_extension": ".py",
   "mimetype": "text/x-python",
   "name": "python",
   "nbconvert_exporter": "python",
   "pygments_lexer": "ipython3",
   "version": "3.8.6"
  }
 },
 "nbformat": 4,
 "nbformat_minor": 4
}
