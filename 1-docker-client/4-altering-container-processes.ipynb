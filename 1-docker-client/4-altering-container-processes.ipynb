{
 "cells": [
  {
   "cell_type": "markdown",
   "metadata": {},
   "source": [
    "# Altering Container Processes"
   ]
  },
  {
   "cell_type": "markdown",
   "metadata": {},
   "source": [
    "### Introduction"
   ]
  },
  {
   "cell_type": "markdown",
   "metadata": {},
   "source": [
    "### 1. Creating a container"
   ]
  },
  {
   "cell_type": "markdown",
   "metadata": {},
   "source": [
    "By now, we know how to bootup a container.  Let's do it again.\n",
    "\n",
    "`docker run -p 8989:2368 ghost`\n",
    "\n",
    "[DockerFile for our ghost image](https://github.com/docker-library/ghost/blob/2a72c03e339bda5051b37edd0c553fe909e8408d/2/debian/Dockerfile) we see that it ends with `CMD node index.js`.  "
   ]
  },
  {
   "cell_type": "markdown",
   "metadata": {},
   "source": [
    "```Dockerfile\n",
    "WORKDIR $GHOST_INSTALL\n",
    "VOLUME $GHOST_CONTENT\n",
    "\n",
    "COPY docker-entrypoint.sh /usr/local/bin\n",
    "ENTRYPOINT [\"docker-entrypoint.sh\"]\n",
    "\n",
    "EXPOSE 2368\n",
    "CMD [\"node\", \"current/index.js\"]\n",
    "```\n"
   ]
  },
  {
   "cell_type": "markdown",
   "metadata": {},
   "source": [
    "`docker inspect -f '{{.Config.Cmd}}' ghost`\n",
    "\n",
    "```\n",
    "[node current/index.js]\n",
    "```"
   ]
  },
  {
   "cell_type": "markdown",
   "metadata": {},
   "source": [
    "### 2. Altering the Behavior"
   ]
  },
  {
   "cell_type": "markdown",
   "metadata": {},
   "source": [
    "So we just saw that when we run the command `docker run`, docker will create the container with the command specified in the Docker image.\n",
    "\n",
    "It turns out that we have the optio of overriding the CMD function so that when Docker boots up, a different command is run.  In the line below, for example, we'll override the default command with the `ls` command."
   ]
  },
  {
   "cell_type": "markdown",
   "metadata": {},
   "source": [
    "`(base) [~]$ docker run ghost ls`\n",
    "```\n",
    "config.development.json\n",
    "config.production.json\n",
    "content\n",
    "content.orig\n",
    "current\n",
    "versions\n",
    "```"
   ]
  },
  {
   "cell_type": "markdown",
   "metadata": {},
   "source": [
    "### 3. Automatic Stopping \n"
   ]
  },
  {
   "cell_type": "markdown",
   "metadata": {},
   "source": [
    "```\n",
    "docker run ghost\n",
    "```"
   ]
  },
  {
   "cell_type": "markdown",
   "metadata": {},
   "source": [
    "**However**, when we ran the `ls` command, docker also created a container, performed the `ls` command but then it destroyed the container once the command has completed."
   ]
  },
  {
   "cell_type": "markdown",
   "metadata": {},
   "source": [
    "Here is the point: \n",
    "\n",
    "> Docker destroys a container right when the process that kicks it off is complete."
   ]
  },
  {
   "cell_type": "markdown",
   "metadata": {},
   "source": [
    "So Docker stayed running when the server was running, because that task asked the server to stay listening.  But once we terminated the process, the container destroyed as well.  With the `ls` command, Docker booted up a container, listed the files inside, and then because that task completed, it terminated the container."
   ]
  },
  {
   "cell_type": "markdown",
   "metadata": {},
   "source": [
    "### 4. Persisting a Process"
   ]
  },
  {
   "cell_type": "markdown",
   "metadata": {},
   "source": [
    "`docker run ghost sh`"
   ]
  },
  {
   "cell_type": "markdown",
   "metadata": {},
   "source": [
    "Ah yes, frustration.  What we see when we run the command, is docker does not really given access to a shell.  Docker just moves to the next line.\n",
    "\n",
    "**The reason** is because docker simply executes the command, and when the command is finished it completes that command.    So to have the command both execute the command and allow us to interact with the shell, we must provide the `-it` flag.  \n",
    "> This means that we maintain a connection to the container's standard input and standard output.  "
   ]
  },
  {
   "cell_type": "markdown",
   "metadata": {},
   "source": [
    "<img src=\"./docker-it.png\" width=\"70%\">"
   ]
  },
  {
   "cell_type": "markdown",
   "metadata": {},
   "source": [
    "Much better.  Now we have access to the software and commands inside of the container."
   ]
  },
  {
   "cell_type": "markdown",
   "metadata": {},
   "source": [
    "### Working on a Running Container"
   ]
  },
  {
   "cell_type": "markdown",
   "metadata": {},
   "source": [
    "Now we can also access a running container from a separate shell.  For example, if we want to see the logs of the container we can run the following:\n",
    "\n",
    "`docker container logs container_name` or `docker logs container_name`"
   ]
  },
  {
   "cell_type": "markdown",
   "metadata": {},
   "source": [
    "### Resources\n",
    "\n",
    "* [Command vs Entrypoint](https://blog.codeship.com/understanding-dockers-cmd-and-entrypoint-instructions/)\n",
    "\n",
    "* *Docker for Data Science* book - for more on thinking of containers as processes"
   ]
  }
 ],
 "metadata": {
  "kernelspec": {
   "display_name": "Python 3",
   "language": "python",
   "name": "python3"
  },
  "language_info": {
   "codemirror_mode": {
    "name": "ipython",
    "version": 3
   },
   "file_extension": ".py",
   "mimetype": "text/x-python",
   "name": "python",
   "nbconvert_exporter": "python",
   "pygments_lexer": "ipython3",
   "version": "3.8.6"
  }
 },
 "nbformat": 4,
 "nbformat_minor": 4
}
