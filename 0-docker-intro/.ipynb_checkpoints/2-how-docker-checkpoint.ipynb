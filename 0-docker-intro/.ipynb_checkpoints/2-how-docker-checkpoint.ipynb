{
 "cells": [
  {
   "cell_type": "markdown",
   "metadata": {},
   "source": [
    "# How Docker"
   ]
  },
  {
   "cell_type": "markdown",
   "metadata": {},
   "source": [
    "### Introduction"
   ]
  },
  {
   "cell_type": "markdown",
   "metadata": {},
   "source": [
    "Appreciate the idea of isolation represented by both images and containers.  "
   ]
  },
  {
   "cell_type": "markdown",
   "metadata": {},
   "source": [
    "* image \n",
    "* container\n",
    "* isolated environment?"
   ]
  },
  {
   "cell_type": "markdown",
   "metadata": {},
   "source": [
    "### Why Docker Again?"
   ]
  },
  {
   "cell_type": "markdown",
   "metadata": {},
   "source": [
    "* Install the underlying software installed (Ghost uses node), download the ghost codebase, and initialize a database along with all of necessary tables, among other things.  "
   ]
  },
  {
   "cell_type": "markdown",
   "metadata": {},
   "source": [
    "### Keeping it Isolated"
   ]
  },
  {
   "cell_type": "markdown",
   "metadata": {},
   "source": [
    "Start with an isolated environment.  \n",
    "\n",
    "Before docker - virtual machine:"
   ]
  },
  {
   "cell_type": "markdown",
   "metadata": {},
   "source": [
    "> \"an efficient, isolated duplicate of a real computer machine.\"\n",
    "\n",
    "> [Wikipedia](https://en.wikipedia.org/wiki/Virtual_machine#Definitions)"
   ]
  },
  {
   "cell_type": "markdown",
   "metadata": {},
   "source": [
    "<img src=\"./win-virtual-machine.png\" width=\"60%\">"
   ]
  },
  {
   "cell_type": "markdown",
   "metadata": {},
   "source": [
    "* **host**: mac underlying laptop \n",
    "* **guest** running on the host\n",
    "\n",
    "*  Host provides hardware and computing resources to support a guest virtual machine.\n",
    "\n",
    "\n",
    "* Downsides: \n",
    "1. **space**\n",
    "2. **time**\n",
    "\n",
    "* Eg. Two separate apps (blogging app, and a chat application), do we need two different virtual machines?\n",
    "\n",
    "Docker:\n",
    "\n",
    "> Isolated environment while limiting the speed and space requirements of this environmental setup. "
   ]
  },
  {
   "cell_type": "markdown",
   "metadata": {},
   "source": [
    "### How Docker Maintains this Balance"
   ]
  },
  {
   "cell_type": "markdown",
   "metadata": {},
   "source": [
    "**Goal**: Have isolated environment for each individual task (eg. our chat application, and blogging application), *without* creating a separate virtual machine."
   ]
  },
  {
   "cell_type": "markdown",
   "metadata": {},
   "source": [
    "How?"
   ]
  },
  {
   "cell_type": "markdown",
   "metadata": {},
   "source": [
    "### 1. A union filesystem  "
   ]
  },
  {
   "cell_type": "markdown",
   "metadata": {},
   "source": [
    "<img src=\"./directories.png\">"
   ]
  },
  {
   "cell_type": "markdown",
   "metadata": {},
   "source": [
    "> That's one feature of a union filesystem: it allows our folders to act as if **they contain certain files** even when the files really live somewhere else."
   ]
  },
  {
   "cell_type": "markdown",
   "metadata": {},
   "source": [
    "Imagine we want to edit Chamber of Secrets."
   ]
  },
  {
   "cell_type": "markdown",
   "metadata": {},
   "source": [
    "Problem"
   ]
  },
  {
   "cell_type": "markdown",
   "metadata": {},
   "source": [
    "<img src=\"./harry_copy_on_write.png\" width=\"40%\">"
   ]
  },
  {
   "cell_type": "markdown",
   "metadata": {},
   "source": [
    "This is a **union file system**.  \n",
    "\n",
    "> A union filesystem allows computer contents to be seen as under a cohesive directory even if they live elsewhere, and used by another resource.  The contents are read only.  Any changes made are performed by first copying the relevant file and then making the edit."
   ]
  },
  {
   "cell_type": "markdown",
   "metadata": {},
   "source": [
    "Docker:\n",
    "\n",
    "* images share overlapping pieces of software.  \n",
    "* Eg. Chat app and Blogging App"
   ]
  },
  {
   "cell_type": "markdown",
   "metadata": {},
   "source": [
    "Notice the following:"
   ]
  },
  {
   "cell_type": "markdown",
   "metadata": {},
   "source": [
    "```\n",
    "latest: Pulling from library/ghost\n",
    "d121f8d1c412: Already exists\n",
    "3a54a24e4e59: Already exists\n",
    "8aa65a634fc0: Already exists\n",
    "7634d710af87: Already exists\n",
    "ec150ee2ad17: Already exists\n",
    "8d63bf0b1e87: Already exists\n",
    "2f2b08fee21d: Already exists\n",
    "c90a3cd5a740: Already exists\n",
    "8d1c1d735844: Already exists\n",
    "Digest: sha256:d36769ce35d3ad3c868a359ad48d9a0b37f886ef4df3571c54936beb4c23689e\n",
    "Status: Downloaded newer image for ghost:latest\n",
    "docker.io/library/ghost:latest\n",
    "```"
   ]
  },
  {
   "cell_type": "markdown",
   "metadata": {},
   "source": [
    "### Containers"
   ]
  },
  {
   "cell_type": "markdown",
   "metadata": {},
   "source": [
    "When we boot up a container, we add another layer on top of our previous images to allow us to make certain changes if need be."
   ]
  },
  {
   "cell_type": "markdown",
   "metadata": {},
   "source": [
    "<img src=\"./copy-on-write-container.png\" width=\"30%\">"
   ]
  },
  {
   "cell_type": "markdown",
   "metadata": {},
   "source": [
    "All a container is, is another thin layer on top of our images.\n",
    "\n",
    "So the **files** required by each container appear isolated."
   ]
  },
  {
   "cell_type": "markdown",
   "metadata": {},
   "source": [
    "### 2. Namespaces\n",
    "\n",
    "Eg. Both use our postgres database\n",
    "\n",
    "If one breaks, don't want other to break"
   ]
  },
  {
   "cell_type": "markdown",
   "metadata": {},
   "source": [
    "### Resources\n",
    "\n",
    "[Cgroups and Linux Containers](https://www.youtube.com/watch?v=el7768BNUPw)\n",
    "\n",
    "[Understanding Docker Internals](https://medium.com/@nagarwal/understanding-the-docker-internals-7ccb052ce9fe)\n",
    "\n",
    "[Docker Namespace and Cgroups](https://medium.com/@kasunmaduraeng/docker-namespace-and-cgroups-dece27c209c7)\n",
    "\n",
    "[Docker Containers and Filesystem](https://medium.com/@nagarwal/docker-containers-filesystem-demystified-b6ed8112a04a)"
   ]
  }
 ],
 "metadata": {
  "kernelspec": {
   "display_name": "Python 3",
   "language": "python",
   "name": "python3"
  },
  "language_info": {
   "codemirror_mode": {
    "name": "ipython",
    "version": 3
   },
   "file_extension": ".py",
   "mimetype": "text/x-python",
   "name": "python",
   "nbconvert_exporter": "python",
   "pygments_lexer": "ipython3",
   "version": "3.8.6"
  }
 },
 "nbformat": 4,
 "nbformat_minor": 4
}
