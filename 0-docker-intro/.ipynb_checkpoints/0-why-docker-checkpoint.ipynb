{
 "cells": [
  {
   "cell_type": "markdown",
   "id": "conditional-venture",
   "metadata": {},
   "source": [
    "# Why Docker"
   ]
  },
  {
   "cell_type": "markdown",
   "id": "greek-spencer",
   "metadata": {},
   "source": [
    "### Just Getting Started"
   ]
  },
  {
   "cell_type": "markdown",
   "id": "static-subscription",
   "metadata": {},
   "source": [
    "If you've tried to write code, then know that one of trickier components can be **simply to install the necessary software**."
   ]
  },
  {
   "cell_type": "markdown",
   "id": "similar-double",
   "metadata": {},
   "source": [
    "We may be following along with a tutorial and then see that:\n",
    "\n",
    "1. We need a different version of Python or Ruby\n",
    "2. In addition to Python, perhaps we need to install a database like Postgres\n",
    "3. Or perhaps in addition to Python, we also need to install a specific version of Node or React\n",
    "3. Maybe we need to set certain environmental variables on our computer\n",
    "4. And then there's always the chance that we simply mistype something"
   ]
  },
  {
   "cell_type": "markdown",
   "id": "continental-float",
   "metadata": {},
   "source": [
    "> For example, there is a blogging platform called Ghost that is free for us to and adapt, change any of the code however we like."
   ]
  },
  {
   "cell_type": "markdown",
   "id": "essential-taste",
   "metadata": {},
   "source": [
    "<img src=\"./ghost-preview.jpg\" width=\"40%\">"
   ]
  },
  {
   "cell_type": "markdown",
   "id": "moving-helmet",
   "metadata": {},
   "source": [
    "But even just getting this up and running requires: \n",
    "\n",
    "1. Sqlite3\n",
    "2. Python\n",
    "3. Linux\n",
    "4. And Node"
   ]
  },
  {
   "cell_type": "markdown",
   "id": "right-brazil",
   "metadata": {},
   "source": [
    "### Development Workflow "
   ]
  },
  {
   "cell_type": "markdown",
   "id": "preceding-estimate",
   "metadata": {},
   "source": [
    "Having the capacity to easily install the necessary software becomes even more important when then deploying that code.  When we deploy our code so that users can access our website, we generally take the code on our laptop and place it on another computer like say one a computer by Amazon or Google, so that users can easily access our website.    "
   ]
  },
  {
   "cell_type": "markdown",
   "id": "strange-signature",
   "metadata": {},
   "source": [
    "> <img src=\"./aws-server.jpeg\" width=\"60%\">"
   ]
  },
  {
   "cell_type": "markdown",
   "id": "technological-laser",
   "metadata": {},
   "source": [
    "> AWS Servers"
   ]
  },
  {
   "cell_type": "markdown",
   "id": "declared-talent",
   "metadata": {},
   "source": [
    "And when we do this, we again, to ensure that everything works this time on Amazon's computers.  And this means that we can need install precisely the same software that we had when coding on our laptop, in production (on Amazon's computers).\n",
    "\n",
    "On a typical development team, code might be deployed to production each week, or even each day.  So making sure that everything works precisely as it did in development becomes a critical issue.  "
   ]
  },
  {
   "cell_type": "markdown",
   "id": "functioning-exclusive",
   "metadata": {},
   "source": [
    "### Welcome Docker"
   ]
  },
  {
   "cell_type": "markdown",
   "id": "proper-gibson",
   "metadata": {},
   "source": [
    "As you may have guessed, Docker allows us to solve for these issues.  It allows us to download, install, and setup a computer so that we can run software.  So if we want to just play around with some software on our laptop, like the Ghost blog we saw above, we can use Docker to perform the setup needed.  \n",
    "\n",
    "And if we then want the necessary setup performed in production, we can use Docker to automatically do so.  In the following lessons, we'll see how easy it is to use Docker to provide this automatic installation for us, and how Docker works under the hood."
   ]
  },
  {
   "cell_type": "markdown",
   "id": "formal-loading",
   "metadata": {},
   "source": [
    "### Summary"
   ]
  },
  {
   "cell_type": "markdown",
   "id": "raised-anthony",
   "metadata": {},
   "source": [
    "In this lesson we learned why we would use Docker:\n",
    "\n",
    "* Docker allows for an automated way to set up a computer necessary to run software.\n",
    "    \n",
    "This helps us perform the needed installations and setup to begin coding, and to then take this software and properly setup the production environment.  A development team sends their updates to production oftentimes weekly or even daily, and so *automating this setup* so that it's easier to perform and less prone to mistakes is a critical for a modern software development team.     "
   ]
  }
 ],
 "metadata": {
  "kernelspec": {
   "display_name": "Python 3",
   "language": "python",
   "name": "python3"
  },
  "language_info": {
   "codemirror_mode": {
    "name": "ipython",
    "version": 3
   },
   "file_extension": ".py",
   "mimetype": "text/x-python",
   "name": "python",
   "nbconvert_exporter": "python",
   "pygments_lexer": "ipython3",
   "version": "3.8.6"
  }
 },
 "nbformat": 4,
 "nbformat_minor": 5
}
