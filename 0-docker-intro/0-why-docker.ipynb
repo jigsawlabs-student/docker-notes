{
 "cells": [
  {
   "cell_type": "markdown",
   "id": "grateful-calcium",
   "metadata": {},
   "source": [
    "# Why Docker"
   ]
  },
  {
   "cell_type": "markdown",
   "id": "regulated-modification",
   "metadata": {},
   "source": [
    "### Just Getting Started"
   ]
  },
  {
   "cell_type": "markdown",
   "id": "occupied-raise",
   "metadata": {},
   "source": [
    "If you've tried to write code, then know that one of trickier components can be **simply to install the necessary software**."
   ]
  },
  {
   "cell_type": "markdown",
   "id": "pacific-barbados",
   "metadata": {},
   "source": [
    "Eg. Tutorial\n"
   ]
  },
  {
   "cell_type": "markdown",
   "id": "valid-found",
   "metadata": {},
   "source": [
    "* Eg. Ghost"
   ]
  },
  {
   "cell_type": "markdown",
   "id": "described-remains",
   "metadata": {},
   "source": [
    "<img src=\"./ghost-preview.jpg\" width=\"40%\">"
   ]
  },
  {
   "cell_type": "markdown",
   "id": "foreign-monthly",
   "metadata": {},
   "source": [
    "But this requires..."
   ]
  },
  {
   "cell_type": "markdown",
   "id": "knowing-teens",
   "metadata": {},
   "source": [
    "1. Backend language\n",
    "2. Database\n",
    "3. Frontend \n",
    "3. Setup environmental variables\n",
    "4. Mistakes"
   ]
  },
  {
   "cell_type": "markdown",
   "id": "stuffed-twenty",
   "metadata": {},
   "source": [
    "> But not just for downloading software."
   ]
  },
  {
   "cell_type": "markdown",
   "id": "threatened-outdoors",
   "metadata": {},
   "source": [
    "###  Modern Development Workflow "
   ]
  },
  {
   "cell_type": "markdown",
   "id": "checked-guatemala",
   "metadata": {},
   "source": [
    "<img src=\"./dev-production.jpg\" width=\"40%\">"
   ]
  },
  {
   "cell_type": "markdown",
   "id": "pleasant-domestic",
   "metadata": {},
   "source": [
    "> <img src=\"./aws-server.jpeg\" width=\"60%\">"
   ]
  },
  {
   "cell_type": "markdown",
   "id": "democratic-method",
   "metadata": {},
   "source": [
    "> AWS Servers"
   ]
  },
  {
   "cell_type": "markdown",
   "id": "passive-morgan",
   "metadata": {},
   "source": [
    "### Welcome Docker"
   ]
  },
  {
   "cell_type": "markdown",
   "id": "cordless-trademark",
   "metadata": {},
   "source": [
    "### Summary"
   ]
  },
  {
   "cell_type": "markdown",
   "id": "solid-helmet",
   "metadata": {},
   "source": [
    "In this lesson we learned why we would use Docker:\n",
    "\n",
    "* Docker allows for an automated way to set up a computer necessary to run software."
   ]
  }
 ],
 "metadata": {
  "kernelspec": {
   "display_name": "Python 3",
   "language": "python",
   "name": "python3"
  },
  "language_info": {
   "codemirror_mode": {
    "name": "ipython",
    "version": 3
   },
   "file_extension": ".py",
   "mimetype": "text/x-python",
   "name": "python",
   "nbconvert_exporter": "python",
   "pygments_lexer": "ipython3",
   "version": "3.8.6"
  }
 },
 "nbformat": 4,
 "nbformat_minor": 5
}
